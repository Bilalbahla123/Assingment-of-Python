{
 "cells": [
  {
   "cell_type": "code",
   "execution_count": 9,
   "metadata": {},
   "outputs": [
    {
     "name": "stdout",
     "output_type": "stream",
     "text": [
      "Twikle Twinkle Little Star,\n",
      "        How I wonder What You Are !\n",
      "              Up above the world so high,\n",
      "              Like a diamond in The Sky.\n",
      "Twikle Twinkle Little Star,\n",
      "        How I wonder What You Are !\n"
     ]
    }
   ],
   "source": [
    "print(\"Twikle Twinkle Little Star,\"),\n",
    "print(\"       \"\" How I wonder What You Are !\"),\n",
    "print(\"              \"\"Up above the world so high,\")\n",
    "print(\"              \"\"Like a diamond in The Sky.\")\n",
    "print(\"Twikle Twinkle Little Star,\"),\n",
    "print(\"       \"\" How I wonder What You Are !\")"
   ]
  },
  {
   "cell_type": "code",
   "execution_count": 1,
   "metadata": {},
   "outputs": [
    {
     "name": "stdout",
     "output_type": "stream",
     "text": [
      "Bilal Muhammad\n"
     ]
    }
   ],
   "source": [
    "first_name = \"Muhammad\"\n",
    "Last_name = \"Bilal\"\n",
    "print(Last_name+\" \"+first_name)"
   ]
  },
  {
   "cell_type": "code",
   "execution_count": 2,
   "metadata": {},
   "outputs": [
    {
     "name": "stdout",
     "output_type": "stream",
     "text": [
      " Enter Your Name:- bilal\n",
      " Enter email:- muhammadbilal@gmail.com\n",
      "Name:- bilal\n",
      "email:- muhammadbilal@gmail.com\n"
     ]
    }
   ],
   "source": [
    "name = input(\" Enter Your Name:- \")\n",
    "email = input (\" Enter email:- \")\n",
    "print(\"Name:- \" + name)\n",
    "print(\"email:- \" + email)"
   ]
  },
  {
   "cell_type": "code",
   "execution_count": 6,
   "metadata": {},
   "outputs": [
    {
     "name": "stdout",
     "output_type": "stream",
     "text": [
      "3.7.4\n"
     ]
    }
   ],
   "source": [
    "from platform import python_version\n",
    "print(python_version())"
   ]
  },
  {
   "cell_type": "code",
   "execution_count": 5,
   "metadata": {},
   "outputs": [
    {
     "name": "stdout",
     "output_type": "stream",
     "text": [
      "Current Date And time is \n",
      "29-11-19 18:57-46\n"
     ]
    }
   ],
   "source": [
    "import datetime\n",
    "current = datetime.datetime.now()\n",
    "print(\"Current Date And time is \" )\n",
    "print(current.strftime(\"%d-%m-%y %H:%M-%S\"))"
   ]
  },
  {
   "cell_type": "code",
   "execution_count": 4,
   "metadata": {},
   "outputs": [
    {
     "name": "stdout",
     "output_type": "stream",
     "text": [
      "enter the radius of the circle : 50\n",
      "Area of the cicle is :  7853.981633974483\n"
     ]
    }
   ],
   "source": [
    "import math\n",
    "radius = float(input(\"enter the radius of the circle : \"))\n",
    "area = math.pi * radius * radius\n",
    "print(\"Area of the cicle is : \", area)"
   ]
  },
  {
   "cell_type": "code",
   "execution_count": null,
   "metadata": {},
   "outputs": [],
   "source": []
  },
  {
   "cell_type": "code",
   "execution_count": null,
   "metadata": {},
   "outputs": [],
   "source": []
  }
 ],
 "metadata": {
  "kernelspec": {
   "display_name": "Python 3",
   "language": "python",
   "name": "python3"
  },
  "language_info": {
   "codemirror_mode": {
    "name": "ipython",
    "version": 3
   },
   "file_extension": ".py",
   "mimetype": "text/x-python",
   "name": "python",
   "nbconvert_exporter": "python",
   "pygments_lexer": "ipython3",
   "version": "3.7.4"
  }
 },
 "nbformat": 4,
 "nbformat_minor": 2
}
