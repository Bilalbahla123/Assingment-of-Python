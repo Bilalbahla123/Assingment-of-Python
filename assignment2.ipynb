{
 "cells": [
  {
   "cell_type": "code",
   "execution_count": 2,
   "metadata": {},
   "outputs": [
    {
     "name": "stdout",
     "output_type": "stream",
     "text": [
      "Enter Your English Marks 45\n",
      "Enter Your Urdu Marks 60\n",
      "Enter Your Islamiat Marks 88\n",
      "Enter Your Bio Marks 50\n",
      "Enter Your math Marks 44\n",
      "67.52941176470588\n",
      "Your Grade is 'B' \n"
     ]
    }
   ],
   "source": [
    "english = int(input(\"Enter Your English Marks \"))\n",
    "urdu = int(input(\"Enter Your Urdu Marks \"))\n",
    "islamiat = int(input(\"Enter Your Islamiat Marks \"))\n",
    "bio = int(input(\"Enter Your Bio Marks \"))\n",
    "math = int(input(\"Enter Your math Marks \"))\n",
    "total = (english + urdu + islamiat + bio + math)\n",
    "per = (total * 100 / 425)\n",
    "print(per)\n",
    "if per >= 80 and per <100:\n",
    "    print(\"Your Grade is 'A+' \")\n",
    "elif per >= 70 and per <80 :\n",
    "    print(\"Your Grade is 'A' \")\n",
    "elif per >= 60 and per <70:\n",
    "    print(\"Your Grade is 'B' \")\n",
    "elif per >= 50 and per <60:\n",
    "    print(\"Your Grade is 'C' \")\n",
    "elif per >= 40 and per <50:\n",
    "    print(\"Your Grade is 'D' \")\n",
    "elif per >= 0 and per <40:\n",
    "    print(\"Sorry ! You Are Fail \")\n",
    "else :\n",
    "    print(\"You have Entered Incorrect Marks\")"
   ]
  },
  {
   "cell_type": "code",
   "execution_count": 3,
   "metadata": {},
   "outputs": [
    {
     "name": "stdout",
     "output_type": "stream",
     "text": [
      "Enter a number :50\n",
      "50 is Even\n"
     ]
    }
   ],
   "source": [
    "a = int(input(\"Enter a number :\"))\n",
    "if a%2==0:\n",
    "  print(a,\"is Even\")\n",
    "else:\n",
    "    print(a,\"is odd\")"
   ]
  },
  {
   "cell_type": "code",
   "execution_count": 4,
   "metadata": {},
   "outputs": [
    {
     "data": {
      "text/plain": [
       "7"
      ]
     },
     "execution_count": 4,
     "metadata": {},
     "output_type": "execute_result"
    }
   ],
   "source": [
    "array = [10,20,30,40,50,\"bilal\",\"shakeel\"]\n",
    "len(array)"
   ]
  },
  {
   "cell_type": "code",
   "execution_count": 5,
   "metadata": {},
   "outputs": [
    {
     "name": "stdout",
     "output_type": "stream",
     "text": [
      "15\n"
     ]
    }
   ],
   "source": [
    "mylist = [1,2,3,4,5,]\n",
    "total = sum(mylist)\n",
    "print(total)"
   ]
  },
  {
   "cell_type": "code",
   "execution_count": 7,
   "metadata": {},
   "outputs": [
    {
     "name": "stdout",
     "output_type": "stream",
     "text": [
      "Enter a number of elements : 5\n",
      "enter element : 10\n",
      "enter element : 43\n",
      "enter element : 56\n",
      "enter element : 70\n",
      "enter element : 33\n",
      "Largest element is :  70\n"
     ]
    }
   ],
   "source": [
    "a = []\n",
    "n = int(input(\"Enter a number of elements : \"))\n",
    "for i in range(1,n+1):\n",
    "    b = int(input(\"enter element : \"))\n",
    "    a.append(b)\n",
    "a.sort()\n",
    "print(\"Largest element is : \",a[n-1])"
   ]
  },
  {
   "cell_type": "code",
   "execution_count": 8,
   "metadata": {},
   "outputs": [
    {
     "data": {
      "text/plain": [
       "[1, 1, 2, 3, 5]"
      ]
     },
     "execution_count": 8,
     "metadata": {},
     "output_type": "execute_result"
    }
   ],
   "source": [
    "array = [1, 1, 2, 3, 5, 8, 13, 21, 34, 55, 89]\n",
    "array[0:5]"
   ]
  }
 ],
 "metadata": {
  "kernelspec": {
   "display_name": "Python 3",
   "language": "python",
   "name": "python3"
  },
  "language_info": {
   "codemirror_mode": {
    "name": "ipython",
    "version": 3
   },
   "file_extension": ".py",
   "mimetype": "text/x-python",
   "name": "python",
   "nbconvert_exporter": "python",
   "pygments_lexer": "ipython3",
   "version": "3.7.4"
  }
 },
 "nbformat": 4,
 "nbformat_minor": 2
}
