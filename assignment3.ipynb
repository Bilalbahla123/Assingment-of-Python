{
 "cells": [
  {
   "cell_type": "code",
   "execution_count": 1,
   "metadata": {},
   "outputs": [
    {
     "name": "stdout",
     "output_type": "stream",
     "text": [
      "enter a number : 4\n",
      "Value is not available.\n",
      "Value is not available.\n",
      "Value is not available.\n",
      "Value is available.\n",
      "Value is not available.\n",
      "Value is not available.\n",
      "Value is not available.\n",
      "Value is not available.\n",
      "Value is not available.\n"
     ]
    }
   ],
   "source": [
    "array = [1,2,3,4,5,6,7,8,9]\n",
    "num = int(input(\"enter a number : \"))\n",
    "for bilal in array:\n",
    "    if num ==bilal:\n",
    "        print(\"Value is available.\")\n",
    "    else:\n",
    "        print(\"Value is not available.\")"
   ]
  },
  {
   "cell_type": "code",
   "execution_count": 2,
   "metadata": {},
   "outputs": [
    {
     "name": "stdout",
     "output_type": "stream",
     "text": [
      "muhammadbilal@gmail.com\n"
     ]
    }
   ],
   "source": [
    "info = {\n",
    "    \"First_Name\":\"muhammad\",\n",
    "    \"Last_Nmae\":\"bilal\",\n",
    "    \"email\":\"muhammadbilal@gmail.com\"\n",
    "}\n",
    "print(info[\"email\"])"
   ]
  },
  {
   "cell_type": "code",
   "execution_count": null,
   "metadata": {},
   "outputs": [],
   "source": [
    "num1 = input(\"Enter first value : \")\n",
    "num2 = input(\"Enter second value : \")\n",
    "operater = input(\"Enter operater : \")\n",
    "val1 = int(val1)\n",
    "val2 = int(val2)\n",
    "if operater ==\"/\":\n",
    "  ans = num1 / num2\n",
    "  print(ans,\"answer\")\n",
    "elif operater == \"*\":\n",
    "  ans = num1 * num2\n",
    "  print(ans,\"answer\")\n",
    "elif operater == \"+\":\n",
    "  ans = num1 + num2\n",
    "  print(ans, \"answer\")\n",
    "elif operater == \"-\":\n",
    "  ans = num1 - num2\n",
    "  print(ans,\"answer\")\n",
    "else:\n",
    "    print(\"enter\")\n"
   ]
  },
  {
   "cell_type": "code",
   "execution_count": null,
   "metadata": {},
   "outputs": [],
   "source": []
  },
  {
   "cell_type": "code",
   "execution_count": null,
   "metadata": {},
   "outputs": [],
   "source": []
  },
  {
   "cell_type": "code",
   "execution_count": null,
   "metadata": {},
   "outputs": [],
   "source": []
  }
 ],
 "metadata": {
  "kernelspec": {
   "display_name": "Python 3",
   "language": "python",
   "name": "python3"
  },
  "language_info": {
   "codemirror_mode": {
    "name": "ipython",
    "version": 3
   },
   "file_extension": ".py",
   "mimetype": "text/x-python",
   "name": "python",
   "nbconvert_exporter": "python",
   "pygments_lexer": "ipython3",
   "version": "3.7.4"
  }
 },
 "nbformat": 4,
 "nbformat_minor": 2
}
